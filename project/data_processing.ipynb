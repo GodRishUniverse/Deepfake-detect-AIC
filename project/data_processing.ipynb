{
 "cells": [
  {
   "cell_type": "code",
   "execution_count": 2,
   "metadata": {},
   "outputs": [
    {
     "name": "stdout",
     "output_type": "stream",
     "text": [
      "Collecting lightning\n",
      "  Downloading lightning-2.5.0.post0-py3-none-any.whl.metadata (40 kB)\n",
      "Requirement already satisfied: PyYAML<8.0,>=5.4 in c:\\users\\rishabh\\appdata\\local\\programs\\python\\python311\\lib\\site-packages (from lightning) (6.0.1)\n",
      "Requirement already satisfied: fsspec<2026.0,>=2022.5.0 in c:\\users\\rishabh\\appdata\\local\\programs\\python\\python311\\lib\\site-packages (from fsspec[http]<2026.0,>=2022.5.0->lightning) (2024.3.1)\n",
      "Requirement already satisfied: lightning-utilities<2.0,>=0.10.0 in c:\\users\\rishabh\\appdata\\local\\programs\\python\\python311\\lib\\site-packages (from lightning) (0.11.2)\n",
      "Requirement already satisfied: packaging<25.0,>=20.0 in c:\\users\\rishabh\\appdata\\local\\programs\\python\\python311\\lib\\site-packages (from lightning) (23.2)\n",
      "Requirement already satisfied: torch<4.0,>=2.1.0 in c:\\users\\rishabh\\appdata\\local\\programs\\python\\python311\\lib\\site-packages (from lightning) (2.2.0+cu121)\n",
      "Requirement already satisfied: torchmetrics<3.0,>=0.7.0 in c:\\users\\rishabh\\appdata\\local\\programs\\python\\python311\\lib\\site-packages (from lightning) (1.4.0)\n",
      "Requirement already satisfied: tqdm<6.0,>=4.57.0 in c:\\users\\rishabh\\appdata\\local\\programs\\python\\python311\\lib\\site-packages (from lightning) (4.66.4)\n",
      "Requirement already satisfied: typing-extensions<6.0,>=4.4.0 in c:\\users\\rishabh\\appdata\\local\\programs\\python\\python311\\lib\\site-packages (from lightning) (4.11.0)\n",
      "Collecting pytorch-lightning (from lightning)\n",
      "  Downloading pytorch_lightning-2.5.0.post0-py3-none-any.whl.metadata (21 kB)\n",
      "Requirement already satisfied: aiohttp!=4.0.0a0,!=4.0.0a1 in c:\\users\\rishabh\\appdata\\local\\programs\\python\\python311\\lib\\site-packages (from fsspec[http]<2026.0,>=2022.5.0->lightning) (3.9.5)\n",
      "Requirement already satisfied: setuptools in c:\\users\\rishabh\\appdata\\local\\programs\\python\\python311\\lib\\site-packages (from lightning-utilities<2.0,>=0.10.0->lightning) (65.5.0)\n",
      "Requirement already satisfied: filelock in c:\\users\\rishabh\\appdata\\local\\programs\\python\\python311\\lib\\site-packages (from torch<4.0,>=2.1.0->lightning) (3.14.0)\n",
      "Requirement already satisfied: sympy in c:\\users\\rishabh\\appdata\\local\\programs\\python\\python311\\lib\\site-packages (from torch<4.0,>=2.1.0->lightning) (1.13.1)\n",
      "Requirement already satisfied: networkx in c:\\users\\rishabh\\appdata\\local\\programs\\python\\python311\\lib\\site-packages (from torch<4.0,>=2.1.0->lightning) (3.3)\n",
      "Requirement already satisfied: jinja2 in c:\\users\\rishabh\\appdata\\local\\programs\\python\\python311\\lib\\site-packages (from torch<4.0,>=2.1.0->lightning) (3.1.4)\n",
      "Requirement already satisfied: numpy>1.20.0 in c:\\users\\rishabh\\appdata\\local\\programs\\python\\python311\\lib\\site-packages (from torchmetrics<3.0,>=0.7.0->lightning) (1.25.2)\n",
      "Requirement already satisfied: pretty-errors==1.2.25 in c:\\users\\rishabh\\appdata\\local\\programs\\python\\python311\\lib\\site-packages (from torchmetrics<3.0,>=0.7.0->lightning) (1.2.25)\n",
      "Requirement already satisfied: colorama in c:\\users\\rishabh\\appdata\\local\\programs\\python\\python311\\lib\\site-packages (from pretty-errors==1.2.25->torchmetrics<3.0,>=0.7.0->lightning) (0.4.6)\n",
      "Requirement already satisfied: aiosignal>=1.1.2 in c:\\users\\rishabh\\appdata\\local\\programs\\python\\python311\\lib\\site-packages (from aiohttp!=4.0.0a0,!=4.0.0a1->fsspec[http]<2026.0,>=2022.5.0->lightning) (1.3.1)\n",
      "Requirement already satisfied: attrs>=17.3.0 in c:\\users\\rishabh\\appdata\\local\\programs\\python\\python311\\lib\\site-packages (from aiohttp!=4.0.0a0,!=4.0.0a1->fsspec[http]<2026.0,>=2022.5.0->lightning) (23.2.0)\n",
      "Requirement already satisfied: frozenlist>=1.1.1 in c:\\users\\rishabh\\appdata\\local\\programs\\python\\python311\\lib\\site-packages (from aiohttp!=4.0.0a0,!=4.0.0a1->fsspec[http]<2026.0,>=2022.5.0->lightning) (1.4.1)\n",
      "Requirement already satisfied: multidict<7.0,>=4.5 in c:\\users\\rishabh\\appdata\\local\\programs\\python\\python311\\lib\\site-packages (from aiohttp!=4.0.0a0,!=4.0.0a1->fsspec[http]<2026.0,>=2022.5.0->lightning) (6.0.5)\n",
      "Requirement already satisfied: yarl<2.0,>=1.0 in c:\\users\\rishabh\\appdata\\local\\programs\\python\\python311\\lib\\site-packages (from aiohttp!=4.0.0a0,!=4.0.0a1->fsspec[http]<2026.0,>=2022.5.0->lightning) (1.9.4)\n",
      "Requirement already satisfied: MarkupSafe>=2.0 in c:\\users\\rishabh\\appdata\\local\\programs\\python\\python311\\lib\\site-packages (from jinja2->torch<4.0,>=2.1.0->lightning) (2.1.5)\n",
      "Requirement already satisfied: mpmath<1.4,>=1.1.0 in c:\\users\\rishabh\\appdata\\local\\programs\\python\\python311\\lib\\site-packages (from sympy->torch<4.0,>=2.1.0->lightning) (1.3.0)\n",
      "Requirement already satisfied: idna>=2.0 in c:\\users\\rishabh\\appdata\\local\\programs\\python\\python311\\lib\\site-packages (from yarl<2.0,>=1.0->aiohttp!=4.0.0a0,!=4.0.0a1->fsspec[http]<2026.0,>=2022.5.0->lightning) (3.7)\n",
      "Downloading lightning-2.5.0.post0-py3-none-any.whl (815 kB)\n",
      "   ---------------------------------------- 0.0/815.2 kB ? eta -:--:--\n",
      "   --------------------------------------- 815.2/815.2 kB 11.8 MB/s eta 0:00:00\n",
      "Downloading pytorch_lightning-2.5.0.post0-py3-none-any.whl (819 kB)\n",
      "   ---------------------------------------- 0.0/819.3 kB ? eta -:--:--\n",
      "   --------------------------------------- 819.3/819.3 kB 34.8 MB/s eta 0:00:00\n",
      "Installing collected packages: pytorch-lightning, lightning\n",
      "Successfully installed lightning-2.5.0.post0 pytorch-lightning-2.5.0.post0\n",
      "Note: you may need to restart the kernel to use updated packages.\n"
     ]
    },
    {
     "name": "stderr",
     "output_type": "stream",
     "text": [
      "\n",
      "[notice] A new release of pip is available: 24.3.1 -> 25.0\n",
      "[notice] To update, run: python.exe -m pip install --upgrade pip\n"
     ]
    },
    {
     "name": "stdout",
     "output_type": "stream",
     "text": [
      "Requirement already satisfied: pytorchvideo in c:\\users\\rishabh\\appdata\\local\\programs\\python\\python311\\lib\\site-packages (0.1.5)\n",
      "Requirement already satisfied: fvcore in c:\\users\\rishabh\\appdata\\local\\programs\\python\\python311\\lib\\site-packages (from pytorchvideo) (0.1.5.post20221221)\n",
      "Requirement already satisfied: av in c:\\users\\rishabh\\appdata\\local\\programs\\python\\python311\\lib\\site-packages (from pytorchvideo) (14.1.0)\n",
      "Requirement already satisfied: parameterized in c:\\users\\rishabh\\appdata\\local\\programs\\python\\python311\\lib\\site-packages (from pytorchvideo) (0.9.0)\n",
      "Requirement already satisfied: iopath in c:\\users\\rishabh\\appdata\\local\\programs\\python\\python311\\lib\\site-packages (from pytorchvideo) (0.1.10)\n",
      "Requirement already satisfied: networkx in c:\\users\\rishabh\\appdata\\local\\programs\\python\\python311\\lib\\site-packages (from pytorchvideo) (3.3)\n",
      "Requirement already satisfied: numpy in c:\\users\\rishabh\\appdata\\local\\programs\\python\\python311\\lib\\site-packages (from fvcore->pytorchvideo) (1.25.2)\n",
      "Requirement already satisfied: yacs>=0.1.6 in c:\\users\\rishabh\\appdata\\local\\programs\\python\\python311\\lib\\site-packages (from fvcore->pytorchvideo) (0.1.8)\n",
      "Requirement already satisfied: pyyaml>=5.1 in c:\\users\\rishabh\\appdata\\local\\programs\\python\\python311\\lib\\site-packages (from fvcore->pytorchvideo) (6.0.1)\n",
      "Requirement already satisfied: tqdm in c:\\users\\rishabh\\appdata\\local\\programs\\python\\python311\\lib\\site-packages (from fvcore->pytorchvideo) (4.66.4)\n",
      "Requirement already satisfied: termcolor>=1.1 in c:\\users\\rishabh\\appdata\\local\\programs\\python\\python311\\lib\\site-packages (from fvcore->pytorchvideo) (2.5.0)\n",
      "Requirement already satisfied: Pillow in c:\\users\\rishabh\\appdata\\local\\programs\\python\\python311\\lib\\site-packages (from fvcore->pytorchvideo) (10.0.0)\n",
      "Requirement already satisfied: tabulate in c:\\users\\rishabh\\appdata\\local\\programs\\python\\python311\\lib\\site-packages (from fvcore->pytorchvideo) (0.9.0)\n",
      "Requirement already satisfied: typing-extensions in c:\\users\\rishabh\\appdata\\local\\programs\\python\\python311\\lib\\site-packages (from iopath->pytorchvideo) (4.11.0)\n",
      "Requirement already satisfied: portalocker in c:\\users\\rishabh\\appdata\\local\\programs\\python\\python311\\lib\\site-packages (from iopath->pytorchvideo) (3.1.1)\n",
      "Requirement already satisfied: pywin32>=226 in c:\\users\\rishabh\\appdata\\roaming\\python\\python311\\site-packages (from portalocker->iopath->pytorchvideo) (308)\n",
      "Requirement already satisfied: colorama in c:\\users\\rishabh\\appdata\\local\\programs\\python\\python311\\lib\\site-packages (from tqdm->fvcore->pytorchvideo) (0.4.6)\n",
      "Note: you may need to restart the kernel to use updated packages.\n"
     ]
    },
    {
     "name": "stderr",
     "output_type": "stream",
     "text": [
      "\n",
      "[notice] A new release of pip is available: 24.3.1 -> 25.0\n",
      "[notice] To update, run: python.exe -m pip install --upgrade pip\n"
     ]
    }
   ],
   "source": [
    "%pip install lightning\n",
    "%pip install pytorchvideo"
   ]
  },
  {
   "cell_type": "code",
   "execution_count": 4,
   "metadata": {},
   "outputs": [
    {
     "name": "stdout",
     "output_type": "stream",
     "text": [
      "Collecting albumentations\n",
      "  Downloading albumentations-2.0.2-py3-none-any.whl.metadata (38 kB)\n",
      "Requirement already satisfied: numpy>=1.24.4 in c:\\users\\rishabh\\appdata\\local\\programs\\python\\python311\\lib\\site-packages (from albumentations) (1.25.2)\n",
      "Requirement already satisfied: scipy>=1.10.0 in c:\\users\\rishabh\\appdata\\local\\programs\\python\\python311\\lib\\site-packages (from albumentations) (1.11.2)\n",
      "Requirement already satisfied: PyYAML in c:\\users\\rishabh\\appdata\\local\\programs\\python\\python311\\lib\\site-packages (from albumentations) (6.0.1)\n",
      "Collecting pydantic>=2.9.2 (from albumentations)\n",
      "  Downloading pydantic-2.10.6-py3-none-any.whl.metadata (30 kB)\n",
      "Collecting albucore==0.0.23 (from albumentations)\n",
      "  Downloading albucore-0.0.23-py3-none-any.whl.metadata (5.3 kB)\n",
      "Collecting opencv-python-headless>=4.9.0.80 (from albumentations)\n",
      "  Downloading opencv_python_headless-4.11.0.86-cp37-abi3-win_amd64.whl.metadata (20 kB)\n",
      "Collecting stringzilla>=3.10.4 (from albucore==0.0.23->albumentations)\n",
      "  Downloading stringzilla-3.11.3-cp311-cp311-win_amd64.whl.metadata (81 kB)\n",
      "Collecting simsimd>=5.9.2 (from albucore==0.0.23->albumentations)\n",
      "  Downloading simsimd-6.2.1-cp311-cp311-win_amd64.whl.metadata (67 kB)\n",
      "Requirement already satisfied: annotated-types>=0.6.0 in c:\\users\\rishabh\\appdata\\local\\programs\\python\\python311\\lib\\site-packages (from pydantic>=2.9.2->albumentations) (0.6.0)\n",
      "Collecting pydantic-core==2.27.2 (from pydantic>=2.9.2->albumentations)\n",
      "  Downloading pydantic_core-2.27.2-cp311-cp311-win_amd64.whl.metadata (6.7 kB)\n",
      "Collecting typing-extensions>=4.12.2 (from pydantic>=2.9.2->albumentations)\n",
      "  Using cached typing_extensions-4.12.2-py3-none-any.whl.metadata (3.0 kB)\n",
      "Downloading albumentations-2.0.2-py3-none-any.whl (278 kB)\n",
      "Downloading albucore-0.0.23-py3-none-any.whl (14 kB)\n",
      "Downloading opencv_python_headless-4.11.0.86-cp37-abi3-win_amd64.whl (39.4 MB)\n",
      "   ---------------------------------------- 0.0/39.4 MB ? eta -:--:--\n",
      "   ---- ----------------------------------- 4.7/39.4 MB 25.9 MB/s eta 0:00:02\n",
      "   --------- ------------------------------ 8.9/39.4 MB 29.1 MB/s eta 0:00:02\n",
      "   ----------- ---------------------------- 11.5/39.4 MB 20.1 MB/s eta 0:00:02\n",
      "   ----------------- ---------------------- 16.8/39.4 MB 20.3 MB/s eta 0:00:02\n",
      "   ------------------------- -------------- 24.6/39.4 MB 24.0 MB/s eta 0:00:01\n",
      "   --------------------------------- ------ 32.8/39.4 MB 26.3 MB/s eta 0:00:01\n",
      "   -------------------------------------- - 37.5/39.4 MB 26.5 MB/s eta 0:00:01\n",
      "   ---------------------------------------- 39.4/39.4 MB 24.6 MB/s eta 0:00:00\n",
      "Downloading pydantic-2.10.6-py3-none-any.whl (431 kB)\n",
      "Downloading pydantic_core-2.27.2-cp311-cp311-win_amd64.whl (2.0 MB)\n",
      "   ---------------------------------------- 0.0/2.0 MB ? eta -:--:--\n",
      "   ---------------------------------------- 2.0/2.0 MB 37.4 MB/s eta 0:00:00\n",
      "Downloading simsimd-6.2.1-cp311-cp311-win_amd64.whl (86 kB)\n",
      "Downloading stringzilla-3.11.3-cp311-cp311-win_amd64.whl (80 kB)\n",
      "Using cached typing_extensions-4.12.2-py3-none-any.whl (37 kB)\n",
      "Installing collected packages: stringzilla, simsimd, typing-extensions, opencv-python-headless, pydantic-core, albucore, pydantic, albumentations\n",
      "  Attempting uninstall: typing-extensions\n",
      "    Found existing installation: typing_extensions 4.11.0\n",
      "    Uninstalling typing_extensions-4.11.0:\n",
      "      Successfully uninstalled typing_extensions-4.11.0\n",
      "  Attempting uninstall: pydantic-core\n",
      "    Found existing installation: pydantic_core 2.18.2\n",
      "    Uninstalling pydantic_core-2.18.2:\n",
      "      Successfully uninstalled pydantic_core-2.18.2\n",
      "  Attempting uninstall: pydantic\n",
      "    Found existing installation: pydantic 2.7.1\n",
      "    Uninstalling pydantic-2.7.1:\n",
      "      Successfully uninstalled pydantic-2.7.1\n",
      "Successfully installed albucore-0.0.23 albumentations-2.0.2 opencv-python-headless-4.11.0.86 pydantic-2.10.6 pydantic-core-2.27.2 simsimd-6.2.1 stringzilla-3.11.3 typing-extensions-4.12.2\n",
      "Note: you may need to restart the kernel to use updated packages.\n"
     ]
    },
    {
     "name": "stderr",
     "output_type": "stream",
     "text": [
      "\n",
      "[notice] A new release of pip is available: 24.3.1 -> 25.0\n",
      "[notice] To update, run: python.exe -m pip install --upgrade pip\n"
     ]
    },
    {
     "name": "stdout",
     "output_type": "stream",
     "text": [
      "Collecting opencv-python\n",
      "  Downloading opencv_python-4.11.0.86-cp37-abi3-win_amd64.whl.metadata (20 kB)\n",
      "Requirement already satisfied: numpy>=1.21.2 in c:\\users\\rishabh\\appdata\\local\\programs\\python\\python311\\lib\\site-packages (from opencv-python) (1.25.2)\n",
      "Downloading opencv_python-4.11.0.86-cp37-abi3-win_amd64.whl (39.5 MB)\n",
      "   ---------------------------------------- 0.0/39.5 MB ? eta -:--:--\n",
      "   - -------------------------------------- 1.3/39.5 MB 11.2 MB/s eta 0:00:04\n",
      "   ------ --------------------------------- 6.0/39.5 MB 20.5 MB/s eta 0:00:02\n",
      "   -------------- ------------------------- 13.9/39.5 MB 26.4 MB/s eta 0:00:01\n",
      "   -------------------- ------------------- 20.4/39.5 MB 27.5 MB/s eta 0:00:01\n",
      "   --------------------------- ------------ 27.3/39.5 MB 28.3 MB/s eta 0:00:01\n",
      "   ------------------------------- -------- 31.5/39.5 MB 26.6 MB/s eta 0:00:01\n",
      "   ------------------------------------ --- 35.9/39.5 MB 25.9 MB/s eta 0:00:01\n",
      "   ---------------------------------------- 39.5/39.5 MB 25.1 MB/s eta 0:00:00\n",
      "Installing collected packages: opencv-python\n",
      "Successfully installed opencv-python-4.11.0.86\n",
      "Note: you may need to restart the kernel to use updated packages.\n"
     ]
    },
    {
     "name": "stderr",
     "output_type": "stream",
     "text": [
      "\n",
      "[notice] A new release of pip is available: 24.3.1 -> 25.0\n",
      "[notice] To update, run: python.exe -m pip install --upgrade pip\n"
     ]
    }
   ],
   "source": [
    "%pip install albumentations\n",
    "%pip install opencv-python"
   ]
  },
  {
   "cell_type": "code",
   "execution_count": 8,
   "metadata": {},
   "outputs": [],
   "source": [
    "# import libraries\n",
    "import torch\n",
    "from torch import nn\n",
    "import torchvision \n",
    "import albumentations as A \n",
    "import cv2 # opencv for data processing - it uses BGR and NOT RGB so make sure to convert\n",
    "\n",
    "import numpy as np \n",
    "import matplotlib.pyplot\n",
    "\n",
    "# We will be using PyTorchVideo for video processing and torchvision for image (frame) processing  - this may change\n",
    "import lightning \n",
    "import pytorchvideo \n",
    "\n",
    "from torch.utils.data import DataLoader, Dataset #look into these\n",
    "\n",
    "# video data is 5 dimensional B, C, T, H, W "
   ]
  }
 ],
 "metadata": {
  "kernelspec": {
   "display_name": "Python 3",
   "language": "python",
   "name": "python3"
  },
  "language_info": {
   "codemirror_mode": {
    "name": "ipython",
    "version": 3
   },
   "file_extension": ".py",
   "mimetype": "text/x-python",
   "name": "python",
   "nbconvert_exporter": "python",
   "pygments_lexer": "ipython3",
   "version": "3.11.5"
  }
 },
 "nbformat": 4,
 "nbformat_minor": 2
}
