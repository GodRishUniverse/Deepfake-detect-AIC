{
 "cells": [
  {
   "cell_type": "markdown",
   "metadata": {},
   "source": [
    "# DEEPFAKE DETECTION\n",
    "## AIC Omega"
   ]
  },
  {
   "cell_type": "code",
   "execution_count": 40,
   "metadata": {},
   "outputs": [],
   "source": [
    "import torch \n",
    "from torch import nn\n",
    "import torchvision \n",
    "import numpy as np \n",
    "import matplotlib.pyplot as plt \n",
    "\n",
    "import pandas as pd"
   ]
  },
  {
   "cell_type": "code",
   "execution_count": 41,
   "metadata": {},
   "outputs": [],
   "source": [
    "%matplotlib inline\n"
   ]
  },
  {
   "cell_type": "code",
   "execution_count": 42,
   "metadata": {},
   "outputs": [
    {
     "name": "stdout",
     "output_type": "stream",
     "text": [
      "hello_world\n"
     ]
    }
   ],
   "source": [
    "print(\"hello_world\")"
   ]
  },
  {
   "cell_type": "code",
   "execution_count": 43,
   "metadata": {},
   "outputs": [
    {
     "data": {
      "text/plain": [
       "'cuda'"
      ]
     },
     "execution_count": 43,
     "metadata": {},
     "output_type": "execute_result"
    }
   ],
   "source": [
    "#device agnostic code \n",
    "# Cuda is the library for GPU (NVIDIA) - it is used for high performance computing\n",
    "device = \"cuda\" if torch.cuda.is_available() else \"cpu\"\n",
    "device"
   ]
  },
  {
   "cell_type": "code",
   "execution_count": 44,
   "metadata": {},
   "outputs": [],
   "source": [
    "#HYPER-PARAMETERS\n",
    "LEARNING_RATE = 0.001\n",
    "EPOCHS = 10"
   ]
  },
  {
   "cell_type": "code",
   "execution_count": 45,
   "metadata": {},
   "outputs": [],
   "source": [
    "# Training loop\n",
    "\n",
    "def training_loop(model, data, optimizer, loss_fn, epochs, device):\n",
    "    for epoch in range(0, epochs):\n",
    "        total_loss = 0\n",
    "        for X,y in data:\n",
    "            X, y = X.to(device), y.to(device) # sending data to the appropriate device\n",
    "\n",
    "            pred = model(X).to(device) #sending model to the appropriate device\n",
    "            loss = loss_fn(pred, y) #computing loss (or cost function or criterion)\n",
    "            total_loss += loss #accumulating loss\n",
    "\n",
    "            optimizer.zero_grad()   #clearing the gradients\n",
    "            loss.backward() #backpropagation\n",
    "            optimizer.step() #updating the weights and stepping the optimizer by the learning rate\n",
    "\n",
    "        print(f\"epoch: {epoch}, loss: {total_loss/len(data)}\")\n",
    "    "
   ]
  },
  {
   "cell_type": "code",
   "execution_count": 46,
   "metadata": {},
   "outputs": [],
   "source": [
    "class BasicModel(nn.Module):\n",
    "    \"\"\"\n",
    "    A Simple model  with 2 blocks with 2 linears layers and a relu layer in between\n",
    "    input_size: number of features\n",
    "    hidden_size: number of hidden units\n",
    "    num_classes: number of classes\n",
    "    \"\"\"\n",
    "    def __init__(self, input_size, hidden_size, num_classes):\n",
    "        super().__init__()\n",
    "\n",
    "        self.layer1= nn.Sequential(\n",
    "            nn.Linear(input_size, hidden_size),\n",
    "            nn.ReLU(),\n",
    "            nn.Linear(hidden_size, hidden_size),\n",
    "        )\n",
    "\n",
    "        self.layer2= nn.Sequential(\n",
    "            nn.Linear(hidden_size, hidden_size),\n",
    "            nn.ReLU(),\n",
    "            nn.Linear(hidden_size, num_classes),\n",
    "        )\n",
    "\n",
    "    def forward(self, x):\n",
    "        out = self.layer1(x)\n",
    "        out = self.layer2(out)\n",
    "        return out"
   ]
  },
  {
   "cell_type": "code",
   "execution_count": 47,
   "metadata": {},
   "outputs": [
    {
     "name": "stdout",
     "output_type": "stream",
     "text": [
      "BasicModel(\n",
      "  (layer1): Sequential(\n",
      "    (0): Linear(in_features=1, out_features=50, bias=True)\n",
      "    (1): ReLU()\n",
      "    (2): Linear(in_features=50, out_features=50, bias=True)\n",
      "  )\n",
      "  (layer2): Sequential(\n",
      "    (0): Linear(in_features=50, out_features=50, bias=True)\n",
      "    (1): ReLU()\n",
      "    (2): Linear(in_features=50, out_features=10, bias=True)\n",
      "  )\n",
      ")\n"
     ]
    }
   ],
   "source": [
    "model = BasicModel(input_size=1, hidden_size=50, num_classes=10).to(device)\n",
    "print(model)"
   ]
  },
  {
   "cell_type": "code",
   "execution_count": 48,
   "metadata": {},
   "outputs": [
    {
     "name": "stdout",
     "output_type": "stream",
     "text": [
      "epoch: 0, loss: 1.0003244876861572\n",
      "epoch: 1, loss: 0.9991328120231628\n",
      "epoch: 2, loss: 0.9981022477149963\n",
      "epoch: 3, loss: 0.9972060322761536\n",
      "epoch: 4, loss: 0.9964239001274109\n",
      "epoch: 5, loss: 0.9957371354103088\n",
      "epoch: 6, loss: 0.9951305389404297\n",
      "epoch: 7, loss: 0.994594156742096\n",
      "epoch: 8, loss: 0.9941186904907227\n",
      "epoch: 9, loss: 0.9936956763267517\n"
     ]
    }
   ],
   "source": [
    "optimizer = torch.optim.SGD(model.parameters(), lr=LEARNING_RATE)\n",
    "\n",
    "loss_fn = nn.MSELoss()\n",
    "\n",
    "data = [(torch.randn(100, 1), torch.randn(100, 1)) for _ in range(100)]\n",
    "training_loop(model, data, optimizer, loss_fn, EPOCHS, device)"
   ]
  }
 ],
 "metadata": {
  "kernelspec": {
   "display_name": "Python 3",
   "language": "python",
   "name": "python3"
  },
  "language_info": {
   "codemirror_mode": {
    "name": "ipython",
    "version": 3
   },
   "file_extension": ".py",
   "mimetype": "text/x-python",
   "name": "python",
   "nbconvert_exporter": "python",
   "pygments_lexer": "ipython3",
   "version": "3.11.5"
  }
 },
 "nbformat": 4,
 "nbformat_minor": 2
}
